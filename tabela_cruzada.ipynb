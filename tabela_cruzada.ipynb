{
  "nbformat": 4,
  "nbformat_minor": 0,
  "metadata": {
    "colab": {
      "private_outputs": true,
      "provenance": [],
      "authorship_tag": "ABX9TyNEAt4vYFDeh791Urpp2kEf",
      "include_colab_link": true
    },
    "kernelspec": {
      "name": "python3",
      "display_name": "Python 3"
    },
    "language_info": {
      "name": "python"
    }
  },
  "cells": [
    {
      "cell_type": "markdown",
      "metadata": {
        "id": "view-in-github",
        "colab_type": "text"
      },
      "source": [
        "<a href=\"https://colab.research.google.com/github/vlademirribeiro/estat-stica/blob/main/tabela_cruzada.ipynb\" target=\"_parent\"><img src=\"https://colab.research.google.com/assets/colab-badge.svg\" alt=\"Open In Colab\"/></a>"
      ]
    },
    {
      "cell_type": "code",
      "execution_count": null,
      "metadata": {
        "id": "I2dNT94gxkhN"
      },
      "outputs": [],
      "source": [
        "import pandas as pd\n",
        "import numpy as np\n",
        "\n",
        "# Definindo a semente para garantir resultados reproduzíveis\n",
        "np.random.seed(123)\n",
        "\n",
        "# Criando o conjunto de dados fictício\n",
        "estilos_musicais = [\"Rock\", \"Pop\", \"Eletrônica\", \"Funk\", \"Sertanejo\"]\n",
        "regioes = [\"Centro-Oeste\", \"Nordeste\", \"Norte\", \"Sudeste\", \"Sul\"]\n",
        "\n",
        "# Gerando 500 amostras para cada variável\n",
        "dados = pd.DataFrame({\n",
        "    'Estilo_Musical': np.random.choice(estilos_musicais, 500, replace=True),\n",
        "    'Regiao': np.random.choice(regioes, 500, replace=True)\n",
        "})\n",
        "\n",
        "dados.head()"
      ]
    },
    {
      "cell_type": "code",
      "source": [
        "tab_musical_regiao = pd.crosstab(dados['Estilo_Musical'], dados['Regiao'])\n",
        "\n",
        "tab_musical_regiao"
      ],
      "metadata": {
        "id": "6JWz1MMyySwd"
      },
      "execution_count": null,
      "outputs": []
    },
    {
      "cell_type": "code",
      "source": [
        "tab_musical_regiao = round(pd.crosstab(dados['Estilo_Musical'], dados['Regiao'], normalize = 'index') * 100,1)\n",
        "tab_musical_regiao"
      ],
      "metadata": {
        "id": "ACzY-zWdzw6i"
      },
      "execution_count": null,
      "outputs": []
    },
    {
      "cell_type": "code",
      "source": [
        "tab_musical_regiao = round(pd.crosstab(dados['Estilo_Musical'], dados['Regiao'], normalize = 'all') * 100,1)\n",
        "tab_musical_regiao"
      ],
      "metadata": {
        "id": "Vukglu5R0DsV"
      },
      "execution_count": null,
      "outputs": []
    },
    {
      "cell_type": "code",
      "source": [],
      "metadata": {
        "id": "Z_eNYOMK0EoE"
      },
      "execution_count": null,
      "outputs": []
    }
  ]
}