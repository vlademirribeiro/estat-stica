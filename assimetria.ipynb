{
  "nbformat": 4,
  "nbformat_minor": 0,
  "metadata": {
    "colab": {
      "private_outputs": true,
      "provenance": [],
      "authorship_tag": "ABX9TyP6nFB9pDuhj/QWIqOITg2V",
      "include_colab_link": true
    },
    "kernelspec": {
      "name": "python3",
      "display_name": "Python 3"
    },
    "language_info": {
      "name": "python"
    }
  },
  "cells": [
    {
      "cell_type": "markdown",
      "metadata": {
        "id": "view-in-github",
        "colab_type": "text"
      },
      "source": [
        "<a href=\"https://colab.research.google.com/github/vlademirribeiro/estat-stica/blob/main/assimetria.ipynb\" target=\"_parent\"><img src=\"https://colab.research.google.com/assets/colab-badge.svg\" alt=\"Open In Colab\"/></a>"
      ]
    },
    {
      "cell_type": "markdown",
      "source": [
        "# Vamos aplicar isso a um exemplo?\n",
        "\n",
        "Durante o verão, o consumo de energia aumenta devido ao uso de ar condicionado. No entanto, algumas residências, especialmente as desocupadas ou com sistemas de energia eficientes, apresentam consumos muito baixos, o que pode resultar em uma distribuição assimétrica à esquerda.\n",
        "\n",
        "Vamos simular esses dados para consumo mensal a fim de compreender a distribuição. A função rvs() gera 10.000 amostras de uma distribuição Beta com parâmetros a = 10 e b = 4."
      ],
      "metadata": {
        "id": "6ywh8BachCMc"
      }
    },
    {
      "cell_type": "code",
      "execution_count": null,
      "metadata": {
        "id": "88RLiNhogqKQ"
      },
      "outputs": [],
      "source": [
        "import numpy as np\n",
        "import pandas as pd\n",
        "from scipy.stats import beta\n",
        "\n",
        "# Definir a semente para garantir resultados reproduzíveis\n",
        "np.random.seed(42)\n",
        "\n",
        "# Gerando os dados de consumo de energia (distribuição Beta com parâmetros a=10, b=4)\n",
        "consumo_energia = 2 * np.round(100 * beta.rvs(10, 4, size=10000), 0)\n",
        "\n",
        "# Criando o DataFrame\n",
        "df_consumo = pd.DataFrame(consumo_energia, columns=['Consumo'])\n",
        "\n",
        "# Exibindo as primeiras linhas\n",
        "df_consumo.head()"
      ]
    },
    {
      "cell_type": "markdown",
      "source": [
        "Agora, vamos calcular as medidas de tendência central para ter uma noção da distribuição dos dados:"
      ],
      "metadata": {
        "id": "L-Q-ZD3JhnOl"
      }
    },
    {
      "cell_type": "code",
      "source": [
        "# Exibindo as medidas\n",
        "medidas = {\n",
        "    'media': df_consumo['Consumo'].mean(),\n",
        "    'mediana': df_consumo['Consumo'].median(),\n",
        "    'moda': df_consumo['Consumo'].mode()[0]\n",
        "}\n",
        "medidas\n",
        "\n",
        "media = df_consumo['Consumo'].mean()\n",
        "mediana = df_consumo['Consumo'].median()\n",
        "moda = df_consumo['Consumo'].mode()[0]"
      ],
      "metadata": {
        "id": "00Poh8KNhrcq"
      },
      "execution_count": null,
      "outputs": []
    },
    {
      "cell_type": "code",
      "source": [
        "print(f'Média: {media} Mediana: {mediana} Moda: {moda}')"
      ],
      "metadata": {
        "id": "TzSfG7tjjB1T"
      },
      "execution_count": null,
      "outputs": []
    },
    {
      "cell_type": "markdown",
      "source": [
        "Se compararmos os valores obtidos com uma das curvas da imagem no início do texto, notamos uma provável assimetria à esquerda, onde há a moda > mediana > média. Vamos criar um histograma para ilustrar essa distribuição assimétrica e destacar as posições da média, mediana e moda."
      ],
      "metadata": {
        "id": "Q1iEJowFkzm6"
      }
    },
    {
      "cell_type": "code",
      "source": [
        "import matplotlib.pyplot as plt\n",
        "import seaborn as sns\n",
        "\n",
        "# Ajustando o tamanho do gráfico\n",
        "plt.figure(figsize=(10, 8))\n",
        "\n",
        "sns.set_style('darkgrid')\n",
        "\n",
        "# Criando o histograma\n",
        "sns.histplot(df_consumo['Consumo'], bins=15, color='steelblue', alpha=0.3)\n",
        "\n",
        "# Adicionando as linhas para média, mediana e moda\n",
        "plt.axvline(media, color=\"red\", linestyle=\"--\", label=f'Média: {media:.2f}')\n",
        "plt.axvline(mediana, color=\"green\", linestyle=\"-.\", label=f'Mediana: {mediana:.2f}')\n",
        "plt.axvline(moda, color=\"black\", linestyle=\":\", label=f'Moda: {moda:.2f}')\n",
        "\n",
        "# Títulos e rótulos\n",
        "plt.title('Distribuição do consumo de energia no verão em residências', fontsize=22, ha='center')\n",
        "plt.xlabel('Consumo de Energia (kWh)', fontsize=16)\n",
        "plt.ylabel('Frequência', fontsize=16)\n",
        "\n",
        "# Adicionando a legenda\n",
        "plt.legend(title='', fontsize=14)\n",
        "\n",
        "# Exibindo o gráfico\n",
        "plt.show()"
      ],
      "metadata": {
        "id": "Am3FgmO_k26K"
      },
      "execution_count": null,
      "outputs": []
    },
    {
      "cell_type": "markdown",
      "source": [
        "\n",
        "*   Média: tem menor valor porque é influenciada pelos valores mais baixos.\n",
        "\n",
        "*   Mediana: representa o ponto central, menos afetado pelos extremos que a média.\n",
        "\n",
        "* Mediana: representa o ponto central, menos afetado pelos extremos que a média.\n",
        "\n",
        "\n",
        "\n",
        "\n",
        "* Simetria da Distribuição: a relação moda > mediana > médiademonstra que a distribuição é assimétrica à esquerda. Assim, identificar assimetria ajuda a decidir se transformações (como log ou raiz quadrada) são necessárias para análises estatísticas e os candidatos a outliers podem ser explorados para entender padrões incomuns no consumo."
      ],
      "metadata": {
        "id": "-8Q-AYH-ljH_"
      }
    }
  ]
}