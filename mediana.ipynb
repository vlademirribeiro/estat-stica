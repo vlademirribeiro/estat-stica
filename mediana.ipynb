{
  "nbformat": 4,
  "nbformat_minor": 0,
  "metadata": {
    "colab": {
      "private_outputs": true,
      "provenance": [],
      "authorship_tag": "ABX9TyP78MMbNmm/8imb9GHqJ50p",
      "include_colab_link": true
    },
    "kernelspec": {
      "name": "python3",
      "display_name": "Python 3"
    },
    "language_info": {
      "name": "python"
    }
  },
  "cells": [
    {
      "cell_type": "markdown",
      "metadata": {
        "id": "view-in-github",
        "colab_type": "text"
      },
      "source": [
        "<a href=\"https://colab.research.google.com/github/vlademirribeiro/estat-stica/blob/main/mediana.ipynb\" target=\"_parent\"><img src=\"https://colab.research.google.com/assets/colab-badge.svg\" alt=\"Open In Colab\"/></a>"
      ]
    },
    {
      "cell_type": "markdown",
      "source": [],
      "metadata": {
        "id": "NDyDbh6ai8qr"
      }
    },
    {
      "cell_type": "markdown",
      "source": [],
      "metadata": {
        "id": "oFfB0CLSkMNA"
      }
    },
    {
      "cell_type": "markdown",
      "source": [
        "A mediana é extremamente útil em distribuições que são assimétricas, onde a média pode ser influenciada por valores extremos (outliers).\n",
        "\n",
        "Diferença entre Média e Mediana\n",
        "Um tema bem importante é a análise da diferença entre a média e a mediana. Dizemos anteriormente que a média é sensível a valores extremos ou outliers.\n",
        "\n",
        "Por exemplo, em uma empresa, se a maioria dos funcionários ganha entre R$ 2.000 e R$ 5.000, mas o CEO ganha R$ 50.000, a média salarial será puxada para cima, não refletindo a realidade da maioria dos funcionários. A mediana, neste caso, seria uma medida mais adequada, pois não seria tão influenciada pelo salário do CEO.\n",
        "\n",
        "Ou seja, a análise pela mediana é mais vantajosa que a média quando você está lidando com dados mais assimétricos ou quando há outliers significativos."
      ],
      "metadata": {
        "id": "XRKwfGfPjLC-"
      }
    },
    {
      "cell_type": "code",
      "execution_count": null,
      "metadata": {
        "id": "cgxgN_bjifEx"
      },
      "outputs": [],
      "source": [
        "import numpy as np\n",
        "import pandas as pd\n",
        "import seaborn as sns\n",
        "import matplotlib.pyplot as plt\n",
        "\n",
        "# Definindo a semente para garantir resultados reproduzíveis\n",
        "np.random.seed(123)\n",
        "\n",
        "# Simulando dados de salários\n",
        "salarios = np.concatenate([np.random.normal(3000, 500, 100), [10000] * 10, [20000] * 5, [25000] * 2])\n",
        "\n",
        "# Criando o DataFrame\n",
        "dados = pd.DataFrame(salarios, columns=['salarios'])\n",
        "\n",
        "# Calculando a média e a mediana\n",
        "media_salarios = dados['salarios'].mean()\n",
        "mediana_salarios = dados['salarios'].median()\n",
        "\n",
        "# Ajustando o tamanho do gráfico\n",
        "plt.figure(figsize=(10, 8))\n",
        "\n",
        "sns.set_style('darkgrid')\n",
        "# Criando o histograma e a linha de densidade\n",
        "sns.histplot(dados['salarios'], bins=30, color='steelblue', alpha=0.3)\n",
        "\n",
        "# Adicionando as linhas para média e mediana\n",
        "plt.axvline(media_salarios, color=\"red\", linestyle=\"--\", label=f'Média: {media_salarios:.2f}')\n",
        "plt.axvline(mediana_salarios, color=\"green\", linestyle=\"--\", label=f'Mediana: {mediana_salarios:.2f}')\n",
        "\n",
        "# Adicionando título e rótulos aos eixos\n",
        "plt.title(\"Comparação entre Média e Mediana dos Salários\", fontsize=22, ha='center')\n",
        "plt.xlabel(\"Salários (R$)\", fontsize=16)\n",
        "plt.ylabel(\"Frequência\", fontsize=16)\n",
        "\n",
        "sns.despine()\n",
        "\n",
        "# Adicionando a legenda\n",
        "plt.legend(title='', fontsize=14)\n",
        "\n",
        "plt.show()"
      ]
    },
    {
      "cell_type": "markdown",
      "source": [
        "A moda é o valor ou valores mais frequentes em um conjunto de dados. É importante para identificar qual categoria ou valor é o mais comum. Dados podem ser unimodais (uma moda), bimodais (duas modas) ou multimodais (várias modas)."
      ],
      "metadata": {
        "id": "EVcVtWCVkOHw"
      }
    },
    {
      "cell_type": "code",
      "source": [
        "dados.salarios.mode()"
      ],
      "metadata": {
        "id": "BYS5SmMIkcJj"
      },
      "execution_count": null,
      "outputs": []
    }
  ]
}