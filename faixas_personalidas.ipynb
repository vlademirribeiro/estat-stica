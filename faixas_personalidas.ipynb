{
  "nbformat": 4,
  "nbformat_minor": 0,
  "metadata": {
    "colab": {
      "private_outputs": true,
      "provenance": [],
      "authorship_tag": "ABX9TyM6w0sjrywnR1wj2ZDHLR9k",
      "include_colab_link": true
    },
    "kernelspec": {
      "name": "python3",
      "display_name": "Python 3"
    },
    "language_info": {
      "name": "python"
    }
  },
  "cells": [
    {
      "cell_type": "markdown",
      "metadata": {
        "id": "view-in-github",
        "colab_type": "text"
      },
      "source": [
        "<a href=\"https://colab.research.google.com/github/vlademirribeiro/estat-stica/blob/main/faixas_personalidas.ipynb\" target=\"_parent\"><img src=\"https://colab.research.google.com/assets/colab-badge.svg\" alt=\"Open In Colab\"/></a>"
      ]
    },
    {
      "cell_type": "markdown",
      "source": [
        "# Distribuindo os salários dos colaboradores por faixas personalizadas\n",
        "\n",
        "Estamos trabalhando com o dataset colaboradores da empresa varejista que está sob nossa consultoria. O objetivo é construir uma tabela de frequência com base em classes salariais personalizadas, considerando o salário mínimo (SM) de R$ 1.412,00, e visualizar os dados em um gráfico de barras para identificar as faixas salariais mais representativas.\n",
        "\n",
        "As classes são definidas como:\n",
        "\n",
        "*  A: Acima de 12 SM → Acima de R$16.944\n",
        "\n",
        "*  B: De 8 a 12 SM → Entre R$ 11.296 e R$ 16.944\n",
        "\n",
        "*  C: De 4 a 8 SM → Entre R$ 5.648 e R$ 11.296 Item da lista\n",
        "\n",
        "*  D: De 2 a 4 SM → Entre R$ 2.824 e R$ 5.648\n",
        "\n",
        "*  E: Até 2 SM → Até R$ 2.824\n",
        "\n",
        "Vamos começar lendo os dados e criando as classes de acordo com o salário mínimo na época da pesquisa. Vamos passar também para as classes os valores mínimos e máximos de remuneração que serão importantes para dividir as classes utilizando a função cut."
      ],
      "metadata": {
        "id": "tElCKHEdNkjl"
      }
    },
    {
      "cell_type": "code",
      "execution_count": null,
      "metadata": {
        "id": "5GZzRi9oMOjj"
      },
      "outputs": [],
      "source": [
        "# Carregando bibliotecas\n",
        "import pandas as pd\n",
        "import numpy as np\n",
        "import seaborn as sns\n",
        "import matplotlib.pyplot as plt\n",
        "\n",
        "# Carregar os dados\n",
        "url = \"https://raw.githubusercontent.com/alura-cursos/estatistica-r-frequencias-medidas/refs/heads/main/dados/colaboradores.csv\"\n",
        "colaboradores = pd.read_csv(url)\n",
        "\n",
        "# Definindo o salário mínimo e classes\n",
        "sm = 1412\n",
        "\n",
        "# Definindo as classes salariais com base no salário mínimo\n",
        "classes = [colaboradores['remuneracao'].min(), sm * 2, sm * 4, sm * 8, sm * 12, colaboradores['remuneracao'].max()]\n",
        "\n",
        "classes"
      ]
    },
    {
      "cell_type": "markdown",
      "source": [
        "Agora, que definimos as classes em um vetor, vamos criar uma coluna que salva as faixas para cada remuneração dentro da base de dados. Para isso, utilizaremos a mesma função cut que utilizamos no vídeo anterior, mas dessa vez vamos passar o nome da classe (A até E) ao invés do intervalo da faixa para o valor da coluna."
      ],
      "metadata": {
        "id": "Xk38bAI5PcKG"
      }
    },
    {
      "cell_type": "code",
      "source": [
        "# Definindo as classes salariais com base nas faixas\n",
        "labels = ['E', 'D', 'C', 'B', 'A']\n",
        "colaboradores['faixa_salarial'] = pd.cut(colaboradores['remuneracao'], bins=classes, labels=labels, right=True, include_lowest=True)\n",
        "\n",
        "colaboradores"
      ],
      "metadata": {
        "id": "OHvq-ifcMcnk"
      },
      "execution_count": null,
      "outputs": []
    },
    {
      "cell_type": "markdown",
      "source": [
        "Agora, vamos agrupar os dados por classe e criar a distribuição de frequência absoluta e relativa, atualizando a variável classes_salariais."
      ],
      "metadata": {
        "id": "7_pQhHvdP1Y1"
      }
    },
    {
      "cell_type": "code",
      "source": [
        "# Tabela de frequência das faixas salariais\n",
        "frequencias = colaboradores['faixa_salarial'].value_counts().sort_index()\n",
        "\n",
        "frequencias\n",
        "\n",
        "# Agrupar por faixa salarial e calcular a frequência e porcentagem\n",
        "classes_salariais = colaboradores.groupby('faixa_salarial', observed=False ).size().reset_index(name='frequencia')\n",
        "\n",
        "# Calcular a porcentagem\n",
        "classes_salariais['porcentagem'] = (classes_salariais['frequencia'] / len(colaboradores)) * 100\n",
        "\n",
        "# Ordenar pelas classes salariais\n",
        "classes_salariais = classes_salariais.sort_values(by='faixa_salarial')\n",
        "\n",
        "classes_salariais"
      ],
      "metadata": {
        "id": "Xd4OcuDwMl7d"
      },
      "execution_count": null,
      "outputs": []
    },
    {
      "cell_type": "markdown",
      "source": [
        "Agora que já conseguimos construir a tabela de frequências, vamos visualizar a distribuição em um gráfico de barras:"
      ],
      "metadata": {
        "id": "cEVM2SzUQKJ0"
      }
    },
    {
      "cell_type": "code",
      "source": [
        "# Ajustando o tamanho do gráfico\n",
        "plt.figure(figsize=(10, 8))\n",
        "\n",
        "# Criando o gráfico de barras\n",
        "sns.barplot(x='faixa_salarial', y='frequencia', data=classes_salariais, color='steelblue', alpha=0.6)\n",
        "\n",
        "# Adicionando título e rótulos aos eixos\n",
        "plt.title('Distribuição de Frequência das Faixas Salariais', fontsize=22, ha='center')\n",
        "plt.xlabel('Faixas', fontsize=16)\n",
        "plt.ylabel('nº de colaboradores', fontsize=16)\n",
        "\n",
        "# Adicionando rótulos de frequência e porcentagem acima das barras\n",
        "for i, row in classes_salariais.iterrows():\n",
        "    plt.text(i, row['frequencia'] + 2, f\"{row['frequencia']} ({round(row['porcentagem'], 1)}%)\",\n",
        "             ha='center', fontsize=14)\n",
        "\n",
        "# Exibindo o gráfico\n",
        "plt.show()"
      ],
      "metadata": {
        "id": "DnFrSXkNMyAM"
      },
      "execution_count": null,
      "outputs": []
    },
    {
      "cell_type": "markdown",
      "source": [
        "Após a criação do gráfico e da tabela de frequências, podemos tirar algumas conclusões:\n",
        "\n",
        "A maior parte dos colaboradores está concentrada na classe D , representando remunerações na faixa de 2 até 4 salários mínimos.\n",
        "As classes A e B representam aproximadamente 1.1% de todos os colaboradores, ou seja, apenas 128 colaboradores dos 11.090 recebem 8 salários mínimos ou mais.\n",
        "Este comportamento é comum em empresas varejistas, onde grande parte dos colaboradores trabalha em funções operacionais, como atendimento e logística.\n"
      ],
      "metadata": {
        "id": "n4PAX3b6QXal"
      }
    }
  ]
}